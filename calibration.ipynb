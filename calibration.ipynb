{
 "cells": [
  {
   "cell_type": "code",
   "execution_count": 1,
   "id": "253a2651-2d41-4d21-b42d-45165f0e0f15",
   "metadata": {
    "scrolled": true
   },
   "outputs": [],
   "source": [
    "%matplotlib widget\n",
    "\n",
    "import numpy as np\n",
    "from time import time\n",
    "from tqdm import tqdm\n",
    "import matplotlib.pyplot as plt\n",
    "\n",
    "import hyperspy.api as hs\n",
    "import pyxem as pxm"
   ]
  },
  {
   "cell_type": "code",
   "execution_count": null,
   "id": "fbb86115-25ba-43c5-b737-44ba2616ed9b",
   "metadata": {},
   "outputs": [],
   "source": [
    "folder = './'\n",
    "file = 'Si_4.hspy'"
   ]
  },
  {
   "cell_type": "code",
   "execution_count": 3,
   "id": "208c23a9-6fa4-4fab-b6e2-98ffb2e8b8b7",
   "metadata": {},
   "outputs": [],
   "source": [
    "s = hs.load(folder+file)"
   ]
  },
  {
   "cell_type": "code",
   "execution_count": 4,
   "id": "e79d30da-0720-4cf7-aa3f-845ab743590f",
   "metadata": {},
   "outputs": [
    {
     "data": {
      "text/plain": [
       "<ElectronDiffraction2D, title: tiff, dimensions: (239|512, 512)>"
      ]
     },
     "execution_count": 4,
     "metadata": {},
     "output_type": "execute_result"
    }
   ],
   "source": [
    "s"
   ]
  },
  {
   "cell_type": "code",
   "execution_count": 7,
   "id": "aa2e18a2-6032-4c3a-b18f-283890c0ddb1",
   "metadata": {},
   "outputs": [],
   "source": [
    "s.plot()"
   ]
  },
  {
   "cell_type": "code",
   "execution_count": 27,
   "id": "f3008c3a-01d4-4970-9eac-3518b6ee18d6",
   "metadata": {},
   "outputs": [
    {
     "data": {
      "application/vnd.jupyter.widget-view+json": {
       "model_id": "ee531c2e3ee64ded98ae5ba20b3dea3f",
       "version_major": 2,
       "version_minor": 0
      },
      "text/plain": [
       "VBox(children=(Accordion(children=(VBox(children=(HBox(children=(Label(value='stack_element', layout=Layout(wi…"
      ]
     },
     "metadata": {},
     "output_type": "display_data"
    },
    {
     "data": {
      "text/plain": [
       "<BaseSignal, title: , dimensions: (239|)>"
      ]
     },
     "execution_count": 27,
     "metadata": {},
     "output_type": "execute_result"
    }
   ],
   "source": [
    "s.find_peaks(method='laplacian_of_gaussian', min_sigma=2., max_sigma=10., num_sigma=20, threshold=0.0005, overlap=1.0,\n",
    "              log_scale=False, exclude_border=1, interactive=True)"
   ]
  },
  {
   "cell_type": "markdown",
   "id": "cb9a5e1f-92fc-4588-a524-fc09f00fb44a",
   "metadata": {},
   "source": [
    "# Calibration"
   ]
  },
  {
   "cell_type": "markdown",
   "id": "d5f36142-7b99-43c2-90dc-f6e1dd6b0144",
   "metadata": {},
   "source": [
    "## Possibly [112]?"
   ]
  },
  {
   "cell_type": "code",
   "execution_count": 8,
   "id": "fb60c4d2-4d25-4b38-b2d9-a77523a9c26d",
   "metadata": {},
   "outputs": [],
   "source": [
    "image = s.inav[75]\n",
    "image.plot(norm='log', cmap='magma_r')\n",
    "line = hs.roi.Line2DROI(x1=159, y1=179, x2=256, y2=359, linewidth=3)\n",
    "profile = line.interactive(image)\n",
    "profile.plot(norm='log')"
   ]
  },
  {
   "cell_type": "code",
   "execution_count": 11,
   "id": "3dbf5ed0-6e0b-4750-873c-548f0ec72e6d",
   "metadata": {},
   "outputs": [
    {
     "data": {
      "text/plain": [
       "Line2DROI(x1=159, y1=179, x2=256, y2=359, linewidth=0)"
      ]
     },
     "execution_count": 11,
     "metadata": {},
     "output_type": "execute_result"
    }
   ],
   "source": [
    "line"
   ]
  },
  {
   "cell_type": "code",
   "execution_count": 14,
   "id": "7b277a72-09a2-4c32-951f-ae8e50bdc44c",
   "metadata": {},
   "outputs": [],
   "source": [
    "span = hs.roi.SpanROI(left=19.3554, right=185.117)\n",
    "L = span.interactive(profile)"
   ]
  },
  {
   "cell_type": "code",
   "execution_count": 13,
   "id": "690a357e-1ddb-4268-bcbe-013587cba261",
   "metadata": {},
   "outputs": [
    {
     "data": {
      "text/plain": [
       "SpanROI(left=19.3554, right=185.117)"
      ]
     },
     "execution_count": 13,
     "metadata": {},
     "output_type": "execute_result"
    }
   ],
   "source": [
    "span"
   ]
  },
  {
   "cell_type": "code",
   "execution_count": 15,
   "id": "1d2b526f-de29-410f-bc15-a3d92fec7ed7",
   "metadata": {},
   "outputs": [
    {
     "name": "stdout",
     "output_type": "stream",
     "text": [
      "0.009549014634313803\n"
     ]
    }
   ],
   "source": [
    "num_peaks = 6\n",
    "r = (span.right - span.left) / profile.axes_manager[0].scale\n",
    "h, k, l = 1, 1, 1\n",
    "a = 5.4307 # Å\n",
    "d = a/np.sqrt((h**2 + k**2 + l**2))\n",
    "scale3 = (num_peaks-1)/(r*d)\n",
    "print(scale3)"
   ]
  },
  {
   "cell_type": "code",
   "execution_count": null,
   "id": "ec3c3d9e-082f-4a7c-b5fb-611bf7add064",
   "metadata": {},
   "outputs": [],
   "source": []
  },
  {
   "cell_type": "code",
   "execution_count": 21,
   "id": "329aeddb-4550-43be-a241-f4c365ce2583",
   "metadata": {},
   "outputs": [],
   "source": [
    "image = s.inav[75]\n",
    "image.plot(norm='log', cmap='magma_r')\n",
    "line = hs.roi.Line2DROI(x1=124, y1=370, x2=335, y2=260, linewidth=3)\n",
    "profile = line.interactive(image)\n",
    "profile.plot(norm='log')"
   ]
  },
  {
   "cell_type": "code",
   "execution_count": 17,
   "id": "e17fc44c-fd78-4469-8212-1fc7b4e35870",
   "metadata": {},
   "outputs": [
    {
     "data": {
      "text/plain": [
       "Line2DROI(x1=124, y1=370, x2=335, y2=260, linewidth=3)"
      ]
     },
     "execution_count": 17,
     "metadata": {},
     "output_type": "execute_result"
    }
   ],
   "source": [
    "line"
   ]
  },
  {
   "cell_type": "code",
   "execution_count": 22,
   "id": "9a3d833e-4ad5-4cda-980c-9d0a09d4a5c9",
   "metadata": {},
   "outputs": [],
   "source": [
    "span = hs.roi.SpanROI(left=9.45833, right=228.493)\n",
    "L = span.interactive(profile)"
   ]
  },
  {
   "cell_type": "code",
   "execution_count": 23,
   "id": "55b346af-6b53-491a-9753-aa1ff947cd2b",
   "metadata": {},
   "outputs": [
    {
     "data": {
      "text/plain": [
       "SpanROI(left=9.45833, right=228.493)"
      ]
     },
     "execution_count": 23,
     "metadata": {},
     "output_type": "execute_result"
    }
   ],
   "source": [
    "span"
   ]
  },
  {
   "cell_type": "code",
   "execution_count": 24,
   "id": "c42a1716-6742-402f-9ca9-a539bad066ab",
   "metadata": {},
   "outputs": [
    {
     "name": "stdout",
     "output_type": "stream",
     "text": [
      "0.009469487860249695\n"
     ]
    }
   ],
   "source": [
    "num_peaks = 5\n",
    "r = (span.right - span.left) / profile.axes_manager[0].scale\n",
    "h, k, l = 2, 2, 0\n",
    "a = 5.4307 # Å\n",
    "d = a/np.sqrt((h**2 + k**2 + l**2))\n",
    "scale3 = (num_peaks-1)/(r*d)\n",
    "print(scale3)"
   ]
  },
  {
   "cell_type": "code",
   "execution_count": null,
   "id": "37e155b0-71f1-47d5-8a8d-cff1abaf85a7",
   "metadata": {},
   "outputs": [],
   "source": []
  },
  {
   "cell_type": "code",
   "execution_count": null,
   "id": "1b174fa1-6c8a-4799-b218-ea84d893fa92",
   "metadata": {},
   "outputs": [],
   "source": []
  },
  {
   "cell_type": "markdown",
   "id": "8cd16cdc-a47f-46c1-978b-f7288888f93c",
   "metadata": {},
   "source": [
    "## Possibly [111] row?"
   ]
  },
  {
   "cell_type": "code",
   "execution_count": 25,
   "id": "85fa91f2-64e8-4ef4-9a81-072bb638c40c",
   "metadata": {},
   "outputs": [],
   "source": [
    "image = s.inav[150]\n",
    "image.plot(norm='log', cmap='magma_r')\n",
    "line = hs.roi.Line2DROI(x1=159, y1=179, x2=256, y2=359, linewidth=3)\n",
    "profile = line.interactive(image)\n",
    "profile.plot(norm='log')"
   ]
  },
  {
   "cell_type": "code",
   "execution_count": 11,
   "id": "43958ede-e7cd-4a3d-9f87-ae6c906f7b41",
   "metadata": {},
   "outputs": [
    {
     "data": {
      "text/plain": [
       "Line2DROI(x1=159, y1=179, x2=256, y2=359, linewidth=0)"
      ]
     },
     "execution_count": 11,
     "metadata": {},
     "output_type": "execute_result"
    }
   ],
   "source": [
    "line"
   ]
  },
  {
   "cell_type": "code",
   "execution_count": 14,
   "id": "0b58b57a-6de3-42d4-bc74-6c29af07503c",
   "metadata": {},
   "outputs": [],
   "source": [
    "span = hs.roi.SpanROI(left=19.3554, right=185.117)\n",
    "L = span.interactive(profile)"
   ]
  },
  {
   "cell_type": "code",
   "execution_count": 13,
   "id": "082b2fd8-517f-4c68-847e-9ff47f197bd3",
   "metadata": {},
   "outputs": [
    {
     "data": {
      "text/plain": [
       "SpanROI(left=19.3554, right=185.117)"
      ]
     },
     "execution_count": 13,
     "metadata": {},
     "output_type": "execute_result"
    }
   ],
   "source": [
    "span"
   ]
  },
  {
   "cell_type": "code",
   "execution_count": 15,
   "id": "5fd77619-9d18-45a5-abcc-fc64ab758fc7",
   "metadata": {},
   "outputs": [
    {
     "name": "stdout",
     "output_type": "stream",
     "text": [
      "0.009549014634313803\n"
     ]
    }
   ],
   "source": [
    "num_peaks = 6\n",
    "r = (span.right - span.left) / profile.axes_manager[0].scale\n",
    "h, k, l = 1, 1, 1\n",
    "a = 5.4307 # Å\n",
    "d = a/np.sqrt((h**2 + k**2 + l**2))\n",
    "scale3 = (num_peaks-1)/(r*d)\n",
    "print(scale3)"
   ]
  },
  {
   "cell_type": "markdown",
   "id": "90e48065-d9af-4341-b6d2-c71541f4eaaa",
   "metadata": {},
   "source": [
    "## Possibly [111] row?"
   ]
  },
  {
   "cell_type": "code",
   "execution_count": 26,
   "id": "9b758ad2-f89e-4380-b053-69f366f05c37",
   "metadata": {},
   "outputs": [],
   "source": [
    "image = s.inav[211]\n",
    "image.plot(norm='log', cmap='magma_r')\n",
    "line = hs.roi.Line2DROI(x1=159, y1=179, x2=256, y2=359, linewidth=3)\n",
    "profile = line.interactive(image)\n",
    "profile.plot(norm='log')"
   ]
  },
  {
   "cell_type": "code",
   "execution_count": 11,
   "id": "674b01fc-84ed-40ec-b0c4-31c86ddd393f",
   "metadata": {},
   "outputs": [
    {
     "data": {
      "text/plain": [
       "Line2DROI(x1=159, y1=179, x2=256, y2=359, linewidth=0)"
      ]
     },
     "execution_count": 11,
     "metadata": {},
     "output_type": "execute_result"
    }
   ],
   "source": [
    "line"
   ]
  },
  {
   "cell_type": "code",
   "execution_count": 14,
   "id": "405736f9-ebba-47d1-ac0b-934c86fea05a",
   "metadata": {},
   "outputs": [],
   "source": [
    "span = hs.roi.SpanROI(left=19.3554, right=185.117)\n",
    "L = span.interactive(profile)"
   ]
  },
  {
   "cell_type": "code",
   "execution_count": 13,
   "id": "17467bc4-6310-4d80-ba0c-6e5f520ffc71",
   "metadata": {},
   "outputs": [
    {
     "data": {
      "text/plain": [
       "SpanROI(left=19.3554, right=185.117)"
      ]
     },
     "execution_count": 13,
     "metadata": {},
     "output_type": "execute_result"
    }
   ],
   "source": [
    "span"
   ]
  },
  {
   "cell_type": "code",
   "execution_count": 15,
   "id": "eca44b33-c557-4770-aa67-d4330dff0a87",
   "metadata": {},
   "outputs": [
    {
     "name": "stdout",
     "output_type": "stream",
     "text": [
      "0.009549014634313803\n"
     ]
    }
   ],
   "source": [
    "num_peaks = 6\n",
    "r = (span.right - span.left) / profile.axes_manager[0].scale\n",
    "h, k, l = 1, 1, 1\n",
    "a = 5.4307 # Å\n",
    "d = a/np.sqrt((h**2 + k**2 + l**2))\n",
    "scale3 = (num_peaks-1)/(r*d)\n",
    "print(scale3)"
   ]
  }
 ],
 "metadata": {
  "kernelspec": {
   "display_name": ".venv",
   "language": "python",
   "name": "python3"
  },
  "language_info": {
   "codemirror_mode": {
    "name": "ipython",
    "version": 3
   },
   "file_extension": ".py",
   "mimetype": "text/x-python",
   "name": "python",
   "nbconvert_exporter": "python",
   "pygments_lexer": "ipython3",
   "version": "3.11.9"
  }
 },
 "nbformat": 4,
 "nbformat_minor": 5
}
